{
 "cells": [
  {
   "cell_type": "code",
   "execution_count": 1,
   "id": "85fb8c9c-3ff9-4377-8a0c-85013256d011",
   "metadata": {},
   "outputs": [
    {
     "name": "stdout",
     "output_type": "stream",
     "text": [
      "Requirement already satisfied: pandas in c:\\users\\acer\\anaconda3\\lib\\site-packages (2.2.2)\n",
      "Requirement already satisfied: numpy in c:\\users\\acer\\anaconda3\\lib\\site-packages (1.26.4)\n",
      "Requirement already satisfied: scikit-learn in c:\\users\\acer\\anaconda3\\lib\\site-packages (1.5.1)\n",
      "Requirement already satisfied: xgboost in c:\\users\\acer\\anaconda3\\lib\\site-packages (3.0.2)\n",
      "Requirement already satisfied: matplotlib in c:\\users\\acer\\anaconda3\\lib\\site-packages (3.9.2)\n",
      "Requirement already satisfied: seaborn in c:\\users\\acer\\anaconda3\\lib\\site-packages (0.13.2)\n",
      "Requirement already satisfied: joblib in c:\\users\\acer\\anaconda3\\lib\\site-packages (1.4.2)\n",
      "Requirement already satisfied: python-dateutil>=2.8.2 in c:\\users\\acer\\anaconda3\\lib\\site-packages (from pandas) (2.9.0.post0)\n",
      "Requirement already satisfied: pytz>=2020.1 in c:\\users\\acer\\anaconda3\\lib\\site-packages (from pandas) (2024.1)\n",
      "Requirement already satisfied: tzdata>=2022.7 in c:\\users\\acer\\anaconda3\\lib\\site-packages (from pandas) (2023.3)\n",
      "Requirement already satisfied: scipy>=1.6.0 in c:\\users\\acer\\anaconda3\\lib\\site-packages (from scikit-learn) (1.13.1)\n",
      "Requirement already satisfied: threadpoolctl>=3.1.0 in c:\\users\\acer\\anaconda3\\lib\\site-packages (from scikit-learn) (3.5.0)\n",
      "Requirement already satisfied: contourpy>=1.0.1 in c:\\users\\acer\\anaconda3\\lib\\site-packages (from matplotlib) (1.2.0)\n",
      "Requirement already satisfied: cycler>=0.10 in c:\\users\\acer\\anaconda3\\lib\\site-packages (from matplotlib) (0.11.0)\n",
      "Requirement already satisfied: fonttools>=4.22.0 in c:\\users\\acer\\anaconda3\\lib\\site-packages (from matplotlib) (4.51.0)\n",
      "Requirement already satisfied: kiwisolver>=1.3.1 in c:\\users\\acer\\anaconda3\\lib\\site-packages (from matplotlib) (1.4.4)\n",
      "Requirement already satisfied: packaging>=20.0 in c:\\users\\acer\\anaconda3\\lib\\site-packages (from matplotlib) (24.1)\n",
      "Requirement already satisfied: pillow>=8 in c:\\users\\acer\\anaconda3\\lib\\site-packages (from matplotlib) (10.4.0)\n",
      "Requirement already satisfied: pyparsing>=2.3.1 in c:\\users\\acer\\anaconda3\\lib\\site-packages (from matplotlib) (3.1.2)\n",
      "Requirement already satisfied: six>=1.5 in c:\\users\\acer\\anaconda3\\lib\\site-packages (from python-dateutil>=2.8.2->pandas) (1.16.0)\n"
     ]
    }
   ],
   "source": [
    "!pip install pandas numpy scikit-learn xgboost matplotlib seaborn joblib\n"
   ]
  },
  {
   "cell_type": "code",
   "execution_count": 3,
   "id": "158bfe24-7d7e-4e29-b039-25fcf816a8b6",
   "metadata": {},
   "outputs": [],
   "source": [
    "import pandas as pd\n",
    "import numpy as np\n",
    "from sklearn.model_selection import train_test_split\n",
    "\n",
    "def load_data(load_csv, weather_csv):\n",
    "    load_df = pd.read_csv(load_csv, parse_dates=['timestamp'])\n",
    "    weather = pd.read_csv(weather_csv, parse_dates=['timestamp'])\n",
    "    return load_df, weather\n",
    "\n",
    "def merge_data(load_df, weather):\n",
    "    df = pd.merge(load_df, weather, on='timestamp', how='left')\n",
    "    df = df.sort_values('timestamp').reset_index(drop=True)\n",
    "    return df\n",
    "\n",
    "def engineer_features(df):\n",
    "    df['hour'] = df['timestamp'].dt.hour\n",
    "    df['dayofweek'] = df['timestamp'].dt.dayofweek\n",
    "    df['month'] = df['timestamp'].dt.month\n",
    "    df['is_weekend'] = df['dayofweek'].isin([5,6]).astype(int)\n",
    "    \n",
    "    # Lag features\n",
    "    df['lag_1h'] = df['load_kwh'].shift(1)\n",
    "    df['lag_24h'] = df['load_kwh'].shift(24)\n",
    "    df['rolling_24h'] = df['load_kwh'].rolling(24).mean()\n",
    "    \n",
    "    # Fill NA values arising from shifts\n",
    "    df = df.fillna(method='bfill').fillna(method='ffill')\n",
    "    return df\n",
    "\n",
    "def split_data(df, target_col='load_kwh', test_size=0.2, random_state=42):\n",
    "    X = df.drop(columns=['timestamp', target_col])\n",
    "    y = df[target_col]\n",
    "    return train_test_split(X, y, test_size=test_size, random_state=random_state)\n"
   ]
  },
  {
   "cell_type": "code",
   "execution_count": 7,
   "id": "c173e27c-0d40-4666-a20f-d3fe1fde2669",
   "metadata": {},
   "outputs": [],
   "source": [
    "import pandas as pd\n",
    "import numpy as np\n",
    "from sklearn.model_selection import train_test_split\n",
    "\n",
    "def load_data(load_csv, weather_csv):\n",
    "    load_df = pd.read_csv(load_csv, parse_dates=['timestamp'])\n",
    "    weather = pd.read_csv(weather_csv, parse_dates=['timestamp'])\n",
    "    return load_df, weather\n",
    "\n",
    "def merge_data(load_df, weather):\n",
    "    df = pd.merge(load_df, weather, on='timestamp', how='left')\n",
    "    df = df.sort_values('timestamp').reset_index(drop=True)\n",
    "    return df\n",
    "\n",
    "def engineer_features(df):\n",
    "    df['hour'] = df['timestamp'].dt.hour\n",
    "    df['dayofweek'] = df['timestamp'].dt.dayofweek\n",
    "    df['month'] = df['timestamp'].dt.month\n",
    "    df['is_weekend'] = df['dayofweek'].isin([5,6]).astype(int)\n",
    "\n",
    "    df['lag_1h'] = df['load_kwh'].shift(1)\n",
    "    df['lag_24h'] = df['load_kwh'].shift(24)\n",
    "    df['rolling_24h'] = df['load_kwh'].rolling(24).mean()\n",
    "\n",
    "    df = df.fillna(method='bfill').fillna(method='ffill')\n",
    "    return df\n",
    "\n",
    "def split_data(df, target_col='load_kwh', test_size=0.2, random_state=42):\n",
    "    X = df.drop(columns=['timestamp', target_col])\n",
    "    y = df[target_col]\n",
    "    return train_test_split(X, y, test_size=test_size, random_state=random_state)\n",
    "\n"
   ]
  },
  {
   "cell_type": "code",
   "execution_count": 17,
   "id": "c455b34b-dd11-49ea-b0b5-fc52ce723689",
   "metadata": {},
   "outputs": [
    {
     "name": "stdout",
     "output_type": "stream",
     "text": [
      "Model saved to energy_model.joblib\n"
     ]
    }
   ],
   "source": [
    "import pandas as pd\n",
    "import numpy as np\n",
    "from xgboost import XGBRegressor\n",
    "import joblib\n",
    "from sklearn.model_selection import train_test_split\n",
    "\n",
    "# Generate synthetic dataset\n",
    "np.random.seed(42)\n",
    "n_samples = 1000\n",
    "\n",
    "df = pd.DataFrame({\n",
    "    'temperature': np.random.uniform(10, 35, n_samples),\n",
    "    'humidity': np.random.uniform(30, 90, n_samples),\n",
    "    'wind_speed': np.random.uniform(0.5, 5, n_samples),\n",
    "    'solar_radiation': np.random.uniform(0, 1000, n_samples),\n",
    "    'hour': np.random.randint(0, 24, n_samples),\n",
    "    'dayofweek': np.random.randint(0, 7, n_samples),\n",
    "    'month': np.random.randint(1, 13, n_samples),\n",
    "    'is_weekend': np.random.randint(0, 2, n_samples),\n",
    "    'lag_1h': np.random.uniform(80, 160, n_samples),\n",
    "    'lag_24h': np.random.uniform(80, 160, n_samples),\n",
    "    'rolling_24h': np.random.uniform(80, 160, n_samples)\n",
    "})\n",
    "\n",
    "# Generate target variable (load_kwh) with some noise\n",
    "df['load_kwh'] = (\n",
    "    0.3 * df['temperature'] +\n",
    "    0.2 * df['humidity'] +\n",
    "    0.1 * df['solar_radiation'] / 100 +\n",
    "    0.25 * df['lag_1h'] +\n",
    "    0.15 * df['lag_24h'] +\n",
    "    np.random.normal(0, 5, n_samples)\n",
    ")\n",
    "\n",
    "# Split into train/test\n",
    "X = df.drop(columns=['load_kwh'])\n",
    "y = df['load_kwh']\n",
    "X_train, X_test, y_train, y_test = train_test_split(X, y, test_size=0.2, random_state=42)\n",
    "\n",
    "# Train model\n",
    "model = XGBRegressor(n_estimators=100, max_depth=4, learning_rate=0.1, random_state=42)\n",
    "model.fit(X_train, y_train)\n",
    "\n",
    "# Save the trained model\n",
    "joblib.dump(model, \"energy_model.joblib\")\n",
    "print(\"Model saved to energy_model.joblib\")\n",
    "\n",
    "\n"
   ]
  },
  {
   "cell_type": "code",
   "execution_count": null,
   "id": "7f3943ab-0ea5-484e-a41a-0de52a9e574d",
   "metadata": {},
   "outputs": [],
   "source": []
  }
 ],
 "metadata": {
  "kernelspec": {
   "display_name": "Python [conda env:base] *",
   "language": "python",
   "name": "conda-base-py"
  },
  "language_info": {
   "codemirror_mode": {
    "name": "ipython",
    "version": 3
   },
   "file_extension": ".py",
   "mimetype": "text/x-python",
   "name": "python",
   "nbconvert_exporter": "python",
   "pygments_lexer": "ipython3",
   "version": "3.12.7"
  }
 },
 "nbformat": 4,
 "nbformat_minor": 5
}
